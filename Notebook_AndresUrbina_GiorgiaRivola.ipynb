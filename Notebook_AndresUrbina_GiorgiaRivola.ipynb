{
 "cells": [
  {
   "cell_type": "markdown",
   "id": "8b03db41",
   "metadata": {},
   "source": [
    "# HEART CONDITION ANALYSIS\n",
    "The following dataset provides information regarding gender, age, various diseases, and smoking habits. With this information we could be able to predict whether a patient is likely to get a stroke based on the parameters given as well as getting some insides about which parameters are more relevant or somewhat relevant \n",
    "The following dataset provides information regarding gender, age, various diseases, and smoking habits. With this information we could be able to predict whether a patient is likely to get a stroke based on the parameters given as well as getting some insights regarding which parameters are somewhat relevant.\n",
    "The dataset was found here: https://www.kaggle.com/datasets/fedesoriano/stroke-prediction-dataset"
   ]
  },
  {
   "cell_type": "markdown",
   "id": "04cd620a",
   "metadata": {},
   "source": [
    "# Information about the dataset \n",
    "Here is a description about the data set columns \n",
    "\n",
    "1) id: unique identifier\n",
    "\n",
    "2) gender: \"Male\", \"Female\" or \"Other\"\n",
    "\n",
    "3) age: age of the patient\n",
    "\n",
    "4) hypertension: 0 if the patient doesn't have hypertension, 1 if the patient has hypertension\n",
    "\n",
    "5) heart_disease: 0 if the patient doesn't have any heart diseases, 1 if the patient has a heart disease\n",
    "\n",
    "6) ever_married: \"No\" or \"Yes\"\n",
    "\n",
    "7) work_type: \"children\", \"Govt_jov\", \"Never_worked\", \"Private\" or \"Self-employed\"\n",
    "\n",
    "8) Residence_type: \"Rural\" or \"Urban\"\n",
    "\n",
    "9) avg_glucose_level: average glucose level in blood\n",
    "\n",
    "10) bmi: body mass index\n",
    "\n",
    "11) smoking_status: \"formerly smoked\", \"never smoked\", \"smokes\" or \"Unknown\"*\n",
    "\n",
    "12) stroke: 1 if the patient had a stroke or 0 if not"
   ]
  },
  {
   "cell_type": "markdown",
   "id": "fb9e6c9f",
   "metadata": {},
   "source": [
    "# 1- Importing the libraries that we are going to use \n",
    "We decided to use seaborn because of its flexibility and the different graphs that we could use in order to plot the data more clearly. Regarding the other libraries, they are considered madatory if we want to perform a complete and clean analysis of the following dataset."
   ]
  },
  {
   "cell_type": "code",
   "execution_count": 1,
   "id": "3f486a6a",
   "metadata": {},
   "outputs": [],
   "source": [
    "import pandas as pd \n",
    "import numpy as np\n",
    "import seaborn as sns \n",
    "import matplotlib.pyplot as plt "
   ]
  },
  {
   "cell_type": "code",
   "execution_count": 2,
   "id": "b97268ea",
   "metadata": {
    "scrolled": true
   },
   "outputs": [
    {
     "data": {
      "text/html": [
       "<div>\n",
       "<style scoped>\n",
       "    .dataframe tbody tr th:only-of-type {\n",
       "        vertical-align: middle;\n",
       "    }\n",
       "\n",
       "    .dataframe tbody tr th {\n",
       "        vertical-align: top;\n",
       "    }\n",
       "\n",
       "    .dataframe thead th {\n",
       "        text-align: right;\n",
       "    }\n",
       "</style>\n",
       "<table border=\"1\" class=\"dataframe\">\n",
       "  <thead>\n",
       "    <tr style=\"text-align: right;\">\n",
       "      <th></th>\n",
       "      <th>id</th>\n",
       "      <th>gender</th>\n",
       "      <th>age</th>\n",
       "      <th>hypertension</th>\n",
       "      <th>heart_disease</th>\n",
       "      <th>ever_married</th>\n",
       "      <th>work_type</th>\n",
       "      <th>Residence_type</th>\n",
       "      <th>avg_glucose_level</th>\n",
       "      <th>bmi</th>\n",
       "      <th>smoking_status</th>\n",
       "      <th>stroke</th>\n",
       "    </tr>\n",
       "  </thead>\n",
       "  <tbody>\n",
       "    <tr>\n",
       "      <th>0</th>\n",
       "      <td>9046</td>\n",
       "      <td>Male</td>\n",
       "      <td>67.0</td>\n",
       "      <td>0</td>\n",
       "      <td>1</td>\n",
       "      <td>Yes</td>\n",
       "      <td>Private</td>\n",
       "      <td>Urban</td>\n",
       "      <td>228.69</td>\n",
       "      <td>36.6</td>\n",
       "      <td>formerly smoked</td>\n",
       "      <td>1</td>\n",
       "    </tr>\n",
       "    <tr>\n",
       "      <th>1</th>\n",
       "      <td>51676</td>\n",
       "      <td>Female</td>\n",
       "      <td>61.0</td>\n",
       "      <td>0</td>\n",
       "      <td>0</td>\n",
       "      <td>Yes</td>\n",
       "      <td>Self-employed</td>\n",
       "      <td>Rural</td>\n",
       "      <td>202.21</td>\n",
       "      <td>NaN</td>\n",
       "      <td>never smoked</td>\n",
       "      <td>1</td>\n",
       "    </tr>\n",
       "    <tr>\n",
       "      <th>2</th>\n",
       "      <td>31112</td>\n",
       "      <td>Male</td>\n",
       "      <td>80.0</td>\n",
       "      <td>0</td>\n",
       "      <td>1</td>\n",
       "      <td>Yes</td>\n",
       "      <td>Private</td>\n",
       "      <td>Rural</td>\n",
       "      <td>105.92</td>\n",
       "      <td>32.5</td>\n",
       "      <td>never smoked</td>\n",
       "      <td>1</td>\n",
       "    </tr>\n",
       "    <tr>\n",
       "      <th>3</th>\n",
       "      <td>60182</td>\n",
       "      <td>Female</td>\n",
       "      <td>49.0</td>\n",
       "      <td>0</td>\n",
       "      <td>0</td>\n",
       "      <td>Yes</td>\n",
       "      <td>Private</td>\n",
       "      <td>Urban</td>\n",
       "      <td>171.23</td>\n",
       "      <td>34.4</td>\n",
       "      <td>smokes</td>\n",
       "      <td>1</td>\n",
       "    </tr>\n",
       "    <tr>\n",
       "      <th>4</th>\n",
       "      <td>1665</td>\n",
       "      <td>Female</td>\n",
       "      <td>79.0</td>\n",
       "      <td>1</td>\n",
       "      <td>0</td>\n",
       "      <td>Yes</td>\n",
       "      <td>Self-employed</td>\n",
       "      <td>Rural</td>\n",
       "      <td>174.12</td>\n",
       "      <td>24.0</td>\n",
       "      <td>never smoked</td>\n",
       "      <td>1</td>\n",
       "    </tr>\n",
       "    <tr>\n",
       "      <th>...</th>\n",
       "      <td>...</td>\n",
       "      <td>...</td>\n",
       "      <td>...</td>\n",
       "      <td>...</td>\n",
       "      <td>...</td>\n",
       "      <td>...</td>\n",
       "      <td>...</td>\n",
       "      <td>...</td>\n",
       "      <td>...</td>\n",
       "      <td>...</td>\n",
       "      <td>...</td>\n",
       "      <td>...</td>\n",
       "    </tr>\n",
       "    <tr>\n",
       "      <th>5105</th>\n",
       "      <td>18234</td>\n",
       "      <td>Female</td>\n",
       "      <td>80.0</td>\n",
       "      <td>1</td>\n",
       "      <td>0</td>\n",
       "      <td>Yes</td>\n",
       "      <td>Private</td>\n",
       "      <td>Urban</td>\n",
       "      <td>83.75</td>\n",
       "      <td>NaN</td>\n",
       "      <td>never smoked</td>\n",
       "      <td>0</td>\n",
       "    </tr>\n",
       "    <tr>\n",
       "      <th>5106</th>\n",
       "      <td>44873</td>\n",
       "      <td>Female</td>\n",
       "      <td>81.0</td>\n",
       "      <td>0</td>\n",
       "      <td>0</td>\n",
       "      <td>Yes</td>\n",
       "      <td>Self-employed</td>\n",
       "      <td>Urban</td>\n",
       "      <td>125.20</td>\n",
       "      <td>40.0</td>\n",
       "      <td>never smoked</td>\n",
       "      <td>0</td>\n",
       "    </tr>\n",
       "    <tr>\n",
       "      <th>5107</th>\n",
       "      <td>19723</td>\n",
       "      <td>Female</td>\n",
       "      <td>35.0</td>\n",
       "      <td>0</td>\n",
       "      <td>0</td>\n",
       "      <td>Yes</td>\n",
       "      <td>Self-employed</td>\n",
       "      <td>Rural</td>\n",
       "      <td>82.99</td>\n",
       "      <td>30.6</td>\n",
       "      <td>never smoked</td>\n",
       "      <td>0</td>\n",
       "    </tr>\n",
       "    <tr>\n",
       "      <th>5108</th>\n",
       "      <td>37544</td>\n",
       "      <td>Male</td>\n",
       "      <td>51.0</td>\n",
       "      <td>0</td>\n",
       "      <td>0</td>\n",
       "      <td>Yes</td>\n",
       "      <td>Private</td>\n",
       "      <td>Rural</td>\n",
       "      <td>166.29</td>\n",
       "      <td>25.6</td>\n",
       "      <td>formerly smoked</td>\n",
       "      <td>0</td>\n",
       "    </tr>\n",
       "    <tr>\n",
       "      <th>5109</th>\n",
       "      <td>44679</td>\n",
       "      <td>Female</td>\n",
       "      <td>44.0</td>\n",
       "      <td>0</td>\n",
       "      <td>0</td>\n",
       "      <td>Yes</td>\n",
       "      <td>Govt_job</td>\n",
       "      <td>Urban</td>\n",
       "      <td>85.28</td>\n",
       "      <td>26.2</td>\n",
       "      <td>Unknown</td>\n",
       "      <td>0</td>\n",
       "    </tr>\n",
       "  </tbody>\n",
       "</table>\n",
       "<p>5110 rows × 12 columns</p>\n",
       "</div>"
      ],
      "text/plain": [
       "         id  gender   age  hypertension  heart_disease ever_married  \\\n",
       "0      9046    Male  67.0             0              1          Yes   \n",
       "1     51676  Female  61.0             0              0          Yes   \n",
       "2     31112    Male  80.0             0              1          Yes   \n",
       "3     60182  Female  49.0             0              0          Yes   \n",
       "4      1665  Female  79.0             1              0          Yes   \n",
       "...     ...     ...   ...           ...            ...          ...   \n",
       "5105  18234  Female  80.0             1              0          Yes   \n",
       "5106  44873  Female  81.0             0              0          Yes   \n",
       "5107  19723  Female  35.0             0              0          Yes   \n",
       "5108  37544    Male  51.0             0              0          Yes   \n",
       "5109  44679  Female  44.0             0              0          Yes   \n",
       "\n",
       "          work_type Residence_type  avg_glucose_level   bmi   smoking_status  \\\n",
       "0           Private          Urban             228.69  36.6  formerly smoked   \n",
       "1     Self-employed          Rural             202.21   NaN     never smoked   \n",
       "2           Private          Rural             105.92  32.5     never smoked   \n",
       "3           Private          Urban             171.23  34.4           smokes   \n",
       "4     Self-employed          Rural             174.12  24.0     never smoked   \n",
       "...             ...            ...                ...   ...              ...   \n",
       "5105        Private          Urban              83.75   NaN     never smoked   \n",
       "5106  Self-employed          Urban             125.20  40.0     never smoked   \n",
       "5107  Self-employed          Rural              82.99  30.6     never smoked   \n",
       "5108        Private          Rural             166.29  25.6  formerly smoked   \n",
       "5109       Govt_job          Urban              85.28  26.2          Unknown   \n",
       "\n",
       "      stroke  \n",
       "0          1  \n",
       "1          1  \n",
       "2          1  \n",
       "3          1  \n",
       "4          1  \n",
       "...      ...  \n",
       "5105       0  \n",
       "5106       0  \n",
       "5107       0  \n",
       "5108       0  \n",
       "5109       0  \n",
       "\n",
       "[5110 rows x 12 columns]"
      ]
     },
     "execution_count": 2,
     "metadata": {},
     "output_type": "execute_result"
    }
   ],
   "source": [
    "data = pd.read_csv('healthcare-dataset-stroke-data.csv')\n",
    "data"
   ]
  },
  {
   "cell_type": "markdown",
   "id": "aaeb98f8",
   "metadata": {},
   "source": [
    "# 1.1- Getting all the descriptive statistics of the data set \n",
    "In this part are located all the statistics of the data set such as: average age, the amount of smokers in this dataset, etc... "
   ]
  },
  {
   "cell_type": "code",
   "execution_count": 3,
   "id": "cec44b05",
   "metadata": {
    "scrolled": false
   },
   "outputs": [
    {
     "data": {
      "text/html": [
       "<div>\n",
       "<style scoped>\n",
       "    .dataframe tbody tr th:only-of-type {\n",
       "        vertical-align: middle;\n",
       "    }\n",
       "\n",
       "    .dataframe tbody tr th {\n",
       "        vertical-align: top;\n",
       "    }\n",
       "\n",
       "    .dataframe thead th {\n",
       "        text-align: right;\n",
       "    }\n",
       "</style>\n",
       "<table border=\"1\" class=\"dataframe\">\n",
       "  <thead>\n",
       "    <tr style=\"text-align: right;\">\n",
       "      <th></th>\n",
       "      <th>id</th>\n",
       "      <th>age</th>\n",
       "      <th>hypertension</th>\n",
       "      <th>heart_disease</th>\n",
       "      <th>avg_glucose_level</th>\n",
       "      <th>bmi</th>\n",
       "      <th>stroke</th>\n",
       "    </tr>\n",
       "  </thead>\n",
       "  <tbody>\n",
       "    <tr>\n",
       "      <th>count</th>\n",
       "      <td>5110.000000</td>\n",
       "      <td>5110.000000</td>\n",
       "      <td>5110.000000</td>\n",
       "      <td>5110.000000</td>\n",
       "      <td>5110.000000</td>\n",
       "      <td>4909.000000</td>\n",
       "      <td>5110.000000</td>\n",
       "    </tr>\n",
       "    <tr>\n",
       "      <th>mean</th>\n",
       "      <td>36517.829354</td>\n",
       "      <td>43.226614</td>\n",
       "      <td>0.097456</td>\n",
       "      <td>0.054012</td>\n",
       "      <td>106.147677</td>\n",
       "      <td>28.893237</td>\n",
       "      <td>0.048728</td>\n",
       "    </tr>\n",
       "    <tr>\n",
       "      <th>std</th>\n",
       "      <td>21161.721625</td>\n",
       "      <td>22.612647</td>\n",
       "      <td>0.296607</td>\n",
       "      <td>0.226063</td>\n",
       "      <td>45.283560</td>\n",
       "      <td>7.854067</td>\n",
       "      <td>0.215320</td>\n",
       "    </tr>\n",
       "    <tr>\n",
       "      <th>min</th>\n",
       "      <td>67.000000</td>\n",
       "      <td>0.080000</td>\n",
       "      <td>0.000000</td>\n",
       "      <td>0.000000</td>\n",
       "      <td>55.120000</td>\n",
       "      <td>10.300000</td>\n",
       "      <td>0.000000</td>\n",
       "    </tr>\n",
       "    <tr>\n",
       "      <th>25%</th>\n",
       "      <td>17741.250000</td>\n",
       "      <td>25.000000</td>\n",
       "      <td>0.000000</td>\n",
       "      <td>0.000000</td>\n",
       "      <td>77.245000</td>\n",
       "      <td>23.500000</td>\n",
       "      <td>0.000000</td>\n",
       "    </tr>\n",
       "    <tr>\n",
       "      <th>50%</th>\n",
       "      <td>36932.000000</td>\n",
       "      <td>45.000000</td>\n",
       "      <td>0.000000</td>\n",
       "      <td>0.000000</td>\n",
       "      <td>91.885000</td>\n",
       "      <td>28.100000</td>\n",
       "      <td>0.000000</td>\n",
       "    </tr>\n",
       "    <tr>\n",
       "      <th>75%</th>\n",
       "      <td>54682.000000</td>\n",
       "      <td>61.000000</td>\n",
       "      <td>0.000000</td>\n",
       "      <td>0.000000</td>\n",
       "      <td>114.090000</td>\n",
       "      <td>33.100000</td>\n",
       "      <td>0.000000</td>\n",
       "    </tr>\n",
       "    <tr>\n",
       "      <th>max</th>\n",
       "      <td>72940.000000</td>\n",
       "      <td>82.000000</td>\n",
       "      <td>1.000000</td>\n",
       "      <td>1.000000</td>\n",
       "      <td>271.740000</td>\n",
       "      <td>97.600000</td>\n",
       "      <td>1.000000</td>\n",
       "    </tr>\n",
       "  </tbody>\n",
       "</table>\n",
       "</div>"
      ],
      "text/plain": [
       "                 id          age  hypertension  heart_disease  \\\n",
       "count   5110.000000  5110.000000   5110.000000    5110.000000   \n",
       "mean   36517.829354    43.226614      0.097456       0.054012   \n",
       "std    21161.721625    22.612647      0.296607       0.226063   \n",
       "min       67.000000     0.080000      0.000000       0.000000   \n",
       "25%    17741.250000    25.000000      0.000000       0.000000   \n",
       "50%    36932.000000    45.000000      0.000000       0.000000   \n",
       "75%    54682.000000    61.000000      0.000000       0.000000   \n",
       "max    72940.000000    82.000000      1.000000       1.000000   \n",
       "\n",
       "       avg_glucose_level          bmi       stroke  \n",
       "count        5110.000000  4909.000000  5110.000000  \n",
       "mean          106.147677    28.893237     0.048728  \n",
       "std            45.283560     7.854067     0.215320  \n",
       "min            55.120000    10.300000     0.000000  \n",
       "25%            77.245000    23.500000     0.000000  \n",
       "50%            91.885000    28.100000     0.000000  \n",
       "75%           114.090000    33.100000     0.000000  \n",
       "max           271.740000    97.600000     1.000000  "
      ]
     },
     "execution_count": 3,
     "metadata": {},
     "output_type": "execute_result"
    }
   ],
   "source": [
    "data.describe()"
   ]
  },
  {
   "cell_type": "markdown",
   "id": "db068bce",
   "metadata": {},
   "source": [
    "# 2.1- Who took part in this study?\n",
    "\n",
    "We use seaborn to count the quantity of males and females in the data set.  "
   ]
  },
  {
   "cell_type": "code",
   "execution_count": 4,
   "id": "ffb0e859",
   "metadata": {},
   "outputs": [
    {
     "data": {
      "image/png": "[encoded data removed]",
      "text/plain": [
       "<Figure size 640x480 with 1 Axes>"
      ]
     },
     "metadata": {},
     "output_type": "display_data"
    }
   ],
   "source": [
    "data_p = []\n",
    "labels_p = [\"Female\",\"Male\",\"Other\"]\n",
    "male_p = data[data[\"gender\"]==\"Male\"]\n",
    "female_p = data[data[\"gender\"]==\"Female\"]\n",
    "other_p =data[data[\"gender\"]==\"Other\"]\n",
    "data_p.append(len(female_p)/len(data))\n",
    "data_p.append(len(male_p)/len(data))\n",
    "data_p.append(len(other_p)/len(data))\n",
    "\n",
    "colors = sns.color_palette(\"pastel\")[0:5]\n",
    "plt.pie(data_p, labels = labels_p, colors = colors, autopct='%.0f%%')\n",
    "plt.show()\n"
   ]
  },
  {
   "cell_type": "markdown",
   "id": "c3e5ac26",
   "metadata": {},
   "source": [
    "# 2.2- How many patients had a stroke?  \n",
    "As we can see in the graph above, in this data set the majority of people haven't had a stroke. "
   ]
  },
  {
   "cell_type": "code",
   "execution_count": 5,
   "id": "42e037fd",
   "metadata": {},
   "outputs": [
    {
     "data": {
      "image/png": "[encoded data removed]",
      "text/plain": [
       "<Figure size 640x480 with 1 Axes>"
      ]
     },
     "metadata": {},
     "output_type": "display_data"
    }
   ],
   "source": [
    "data_stroke= []\n",
    "stroke_p = len(data[data[\"stroke\"]==1])/len(data)\n",
    "data_stroke.append(stroke_p)\n",
    "\n",
    "no_stroke = len(data[data[\"stroke\"]==0])/len(data)\n",
    "data_stroke.append(no_stroke)\n",
    "labels = [\"stroke\",\"no stroke\"]\n",
    "colors = sns.color_palette('pastel')[0:5]\n",
    "plt.pie(data_stroke, labels = labels, colors = colors, autopct='%.0f%%')\n",
    "plt.show()\n",
    "\n"
   ]
  },
  {
   "cell_type": "markdown",
   "id": "18fbe5e2",
   "metadata": {},
   "source": [
    "The vast majority of the patients who took part in this study never had a stroke as shown in the piechart above. "
   ]
  },
  {
   "cell_type": "markdown",
   "id": "742ebbce",
   "metadata": {},
   "source": [
    "#  2.3- Which gender experienced an higher stroke rate?"
   ]
  },
  {
   "cell_type": "code",
   "execution_count": 6,
   "id": "7a1f6329",
   "metadata": {},
   "outputs": [
    {
     "data": {
      "text/plain": [
       "<matplotlib.legend.Legend at 0x2563565ea90>"
      ]
     },
     "execution_count": 6,
     "metadata": {},
     "output_type": "execute_result"
    },
    {
     "data": {
      "image/png": "[encoded data removed]",
      "text/plain": [
       "<Figure size 640x480 with 1 Axes>"
      ]
     },
     "metadata": {},
     "output_type": "display_data"
    }
   ],
   "source": [
    "sns.countplot(x='gender',hue='stroke',data=data)\n",
    "plt.legend(labels=['Negative','Positive'])"
   ]
  },
  {
   "cell_type": "markdown",
   "id": "85ebdbb7",
   "metadata": {},
   "source": [
    "# 3- Density distribution of the data set variables\n",
    "In this section we are going to analyse the graphs of the quantitative variables.  "
   ]
  },
  {
   "cell_type": "markdown",
   "id": "50483fa4",
   "metadata": {},
   "source": [
    "# 3.1- Density distribution of the average glucose level in the dataset\n",
    "In the graph above we create using seaborn a distribution graph of the average glucose level, this can give us a lot of information regarding this variable such as the fact that the graph is right skewed. Moreover, the mode, median and mean can be deducted from the graph; however, the results wouldn't be very accurate because there is no certainty of it being totally right skewed. To obtain more precise values is therefore suggested using DataFrame.mean() and so on."
   ]
  },
  {
   "cell_type": "code",
   "execution_count": 7,
   "id": "4076e763",
   "metadata": {},
   "outputs": [
    {
     "name": "stderr",
     "output_type": "stream",
     "text": [
      "C:\\Users\\Gio\\anaconda3\\lib\\site-packages\\seaborn\\distributions.py:2619: FutureWarning: `distplot` is a deprecated function and will be removed in a future version. Please adapt your code to use either `displot` (a figure-level function with similar flexibility) or `histplot` (an axes-level function for histograms).\n",
      "  warnings.warn(msg, FutureWarning)\n"
     ]
    },
    {
     "data": {
      "text/plain": [
       "<AxesSubplot:xlabel='avg_glucose_level', ylabel='Density'>"
      ]
     },
     "execution_count": 7,
     "metadata": {},
     "output_type": "execute_result"
    },
    {
     "data": {
      "image/png": "[encoded data removed]",
      "text/plain": [
       "<Figure size 640x480 with 1 Axes>"
      ]
     },
     "metadata": {},
     "output_type": "display_data"
    }
   ],
   "source": [
    "sns.distplot(data['avg_glucose_level'],bins=10)"
   ]
  },
  {
   "cell_type": "code",
   "execution_count": 8,
   "id": "c7317b9e",
   "metadata": {},
   "outputs": [
    {
     "data": {
      "text/plain": [
       "106.14767710371804"
      ]
     },
     "execution_count": 8,
     "metadata": {},
     "output_type": "execute_result"
    }
   ],
   "source": [
    "data['avg_glucose_level'].mean()\n",
    "\n"
   ]
  },
  {
   "cell_type": "code",
   "execution_count": 9,
   "id": "3a1697e9",
   "metadata": {},
   "outputs": [
    {
     "data": {
      "text/plain": [
       "91.88499999999999"
      ]
     },
     "execution_count": 9,
     "metadata": {},
     "output_type": "execute_result"
    }
   ],
   "source": [
    "data['avg_glucose_level'].median()"
   ]
  },
  {
   "cell_type": "code",
   "execution_count": 10,
   "id": "4b23d3f5",
   "metadata": {},
   "outputs": [
    {
     "data": {
      "text/plain": [
       "0    93.88\n",
       "Name: avg_glucose_level, dtype: float64"
      ]
     },
     "execution_count": 10,
     "metadata": {},
     "output_type": "execute_result"
    }
   ],
   "source": [
    "data['avg_glucose_level'].mode()"
   ]
  },
  {
   "cell_type": "markdown",
   "id": "6b3b0bac",
   "metadata": {},
   "source": [
    "Using the mean fuction on the column \"avg_glucose_level\" we can notice that it is somewhat close to the one on the graph so we can conclude that the density distribution graph behaves like a right skewed graph. Now let's check the meadian, mode and so on, but this time adding more more bins."
   ]
  },
  {
   "cell_type": "code",
   "execution_count": 11,
   "id": "369f01a7",
   "metadata": {},
   "outputs": [
    {
     "data": {
      "text/plain": [
       "<seaborn.axisgrid.FacetGrid at 0x25635f19190>"
      ]
     },
     "execution_count": 11,
     "metadata": {},
     "output_type": "execute_result"
    },
    {
     "data": {
      "image/png": "[encoded data removed]",
      "text/plain": [
       "<Figure size 500x500 with 1 Axes>"
      ]
     },
     "metadata": {},
     "output_type": "display_data"
    }
   ],
   "source": [
    "sns.displot(data['avg_glucose_level'],bins=200)"
   ]
  },
  {
   "cell_type": "markdown",
   "id": "6e99854f",
   "metadata": {},
   "source": [
    "Adding more bins we can conclude that the graphs tends to be more right skewed but, to show this fenomenon in a clearer way, let's add even more bins. "
   ]
  },
  {
   "cell_type": "code",
   "execution_count": 12,
   "id": "bbc4b489",
   "metadata": {
    "scrolled": true
   },
   "outputs": [
    {
     "name": "stderr",
     "output_type": "stream",
     "text": [
      "C:\\Users\\Gio\\anaconda3\\lib\\site-packages\\seaborn\\distributions.py:2619: FutureWarning: `distplot` is a deprecated function and will be removed in a future version. Please adapt your code to use either `displot` (a figure-level function with similar flexibility) or `histplot` (an axes-level function for histograms).\n",
      "  warnings.warn(msg, FutureWarning)\n"
     ]
    },
    {
     "data": {
      "text/plain": [
       "<AxesSubplot:xlabel='avg_glucose_level', ylabel='Density'>"
      ]
     },
     "execution_count": 12,
     "metadata": {},
     "output_type": "execute_result"
    },
    {
     "data": {
      "image/png": "[encoded data removed]",
      "text/plain": [
       "<Figure size 640x480 with 1 Axes>"
      ]
     },
     "metadata": {},
     "output_type": "display_data"
    }
   ],
   "source": [
    "sns.distplot(data['avg_glucose_level'],bins=10000)"
   ]
  },
  {
   "cell_type": "markdown",
   "id": "f3ff846f",
   "metadata": {},
   "source": [
    "As we can see, the graph tends to be right skewed (even though there are some outliners)."
   ]
  },
  {
   "cell_type": "markdown",
   "id": "80a8f2f9",
   "metadata": {},
   "source": [
    "# 3.2- Density distribution of the bmi "
   ]
  },
  {
   "cell_type": "code",
   "execution_count": null,
   "id": "2bc395df",
   "metadata": {},
   "outputs": [
    {
     "name": "stderr",
     "output_type": "stream",
     "text": [
      "C:\\Users\\Gio\\anaconda3\\lib\\site-packages\\seaborn\\distributions.py:2619: FutureWarning: `distplot` is a deprecated function and will be removed in a future version. Please adapt your code to use either `displot` (a figure-level function with similar flexibility) or `histplot` (an axes-level function for histograms).\n",
      "  warnings.warn(msg, FutureWarning)\n"
     ]
    },
    {
     "data": {
      "text/plain": [
       "<AxesSubplot:xlabel='bmi', ylabel='Density'>"
      ]
     },
     "execution_count": 13,
     "metadata": {},
     "output_type": "execute_result"
    }
   ],
   "source": [
    "sns.distplot(data['bmi'],bins=1000)"
   ]
  },
  {
   "cell_type": "markdown",
   "id": "85905d84",
   "metadata": {},
   "source": [
    "this graphs has a normal distribution, knowing that we can continue  gettting the statistics "
   ]
  },
  {
   "cell_type": "code",
   "execution_count": null,
   "id": "8c5f12c3",
   "metadata": {},
   "outputs": [],
   "source": [
    "data['bmi'].mean()"
   ]
  },
  {
   "cell_type": "code",
   "execution_count": null,
   "id": "e6f0eff5",
   "metadata": {},
   "outputs": [],
   "source": [
    "data['bmi'].median()"
   ]
  },
  {
   "cell_type": "code",
   "execution_count": null,
   "id": "c6357b0a",
   "metadata": {},
   "outputs": [],
   "source": [
    "data['bmi'].mode()"
   ]
  },
  {
   "cell_type": "markdown",
   "id": "8dd03580",
   "metadata": {},
   "source": [
    "# 3.3- Density distribution of the age"
   ]
  },
  {
   "cell_type": "code",
   "execution_count": null,
   "id": "228485be",
   "metadata": {},
   "outputs": [],
   "source": [
    "sns.distplot(data['age'],bins=100)"
   ]
  },
  {
   "cell_type": "code",
   "execution_count": null,
   "id": "d88e7596",
   "metadata": {},
   "outputs": [],
   "source": [
    "data['age'].mean()"
   ]
  },
  {
   "cell_type": "code",
   "execution_count": null,
   "id": "7854e3ea",
   "metadata": {},
   "outputs": [],
   "source": [
    "data['age'].mode()"
   ]
  },
  {
   "cell_type": "code",
   "execution_count": null,
   "id": "7aafede4",
   "metadata": {},
   "outputs": [],
   "source": [
    "data['age'].median()"
   ]
  },
  {
   "cell_type": "markdown",
   "id": "54df4385",
   "metadata": {},
   "source": [
    "# 3.4- Average glucose level of people who already had a stroke\n",
    "In this case we are showing only the people who had a stroke to see how much does the graph change. \n"
   ]
  },
  {
   "cell_type": "code",
   "execution_count": null,
   "id": "f7f827e1",
   "metadata": {},
   "outputs": [],
   "source": [
    "stroke_p = data[data[\"stroke\"] == 1]\n",
    "sns.distplot(stroke_p['avg_glucose_level'],bins=20)\n"
   ]
  },
  {
   "cell_type": "markdown",
   "id": "44050e60",
   "metadata": {},
   "source": [
    "# 3.5- Average age of people who already had a stroke\n",
    "\n"
   ]
  },
  {
   "cell_type": "markdown",
   "id": "64575b32",
   "metadata": {},
   "source": [
    "# "
   ]
  },
  {
   "cell_type": "code",
   "execution_count": null,
   "id": "188dca25",
   "metadata": {},
   "outputs": [],
   "source": [
    "sns.distplot(stroke_p['age'],bins=20)"
   ]
  },
  {
   "cell_type": "markdown",
   "id": "9dba2e8f",
   "metadata": {},
   "source": [
    "# 3.6- Average BMI of people who already had a stroke"
   ]
  },
  {
   "cell_type": "code",
   "execution_count": null,
   "id": "ceac8814",
   "metadata": {},
   "outputs": [],
   "source": [
    "sns.distplot(stroke_p['bmi'],bins=20)"
   ]
  },
  {
   "cell_type": "markdown",
   "id": "d3aa123a",
   "metadata": {},
   "source": [
    "# 4- Analysis of the impact of the area where people live on heart conditions "
   ]
  },
  {
   "cell_type": "code",
   "execution_count": null,
   "id": "7c808457",
   "metadata": {},
   "outputs": [],
   "source": [
    "sns.countplot(x='Residence_type',hue='stroke',data=data)"
   ]
  },
  {
   "cell_type": "code",
   "execution_count": null,
   "id": "d415189a",
   "metadata": {},
   "outputs": [],
   "source": [
    "life_urbn = data[data[\"Residence_type\"]== \"Urban\"]\n",
    "life_urbn['stroke'].value_counts()"
   ]
  },
  {
   "cell_type": "code",
   "execution_count": null,
   "id": "b143c82b",
   "metadata": {},
   "outputs": [],
   "source": [
    "life_rural = data[data[\"Residence_type\"] == \"Rural\"]\n",
    "life_rural['stroke'].value_counts()"
   ]
  },
  {
   "cell_type": "markdown",
   "id": "af05f10c",
   "metadata": {},
   "source": [
    "Here we see how many people living in rural and urban areas have had a stroke. \n",
    "What we notice is that the number of patients who had a stroke and live in the rural area is smaller that the ones living in the urban area. \n",
    "However, in order to be sure that the urban population had more strokes, we need do the following: \n",
    "\n",
    "\n",
    "The fraction $\\frac{114}{2400+114}$ for the rural part and  $\\frac{135}{2461+135}$ for the urban part to see the percentange of people that had a stroke in both residential zones \n",
    "\n",
    "\n"
   ]
  },
  {
   "cell_type": "markdown",
   "id": "f194990e",
   "metadata": {},
   "source": [
    "if we do the calculations we obtain the the 4.5% of people in the rural zone had a stroke and a 5.2 % of the people in an urban zone had a stroke, with this simple calculation we can deduce that people in urban areas "
   ]
  },
  {
   "cell_type": "markdown",
   "id": "30a3a20e",
   "metadata": {},
   "source": [
    "# 5- Scatter plot for some variables\n",
    "# 5.1- Scatter plot showing the relationship between strokes and the age variable\n",
    "In this section we will display an scatter plot of the stroke variable and some relevant variables. "
   ]
  },
  {
   "cell_type": "code",
   "execution_count": null,
   "id": "17750a5f",
   "metadata": {},
   "outputs": [],
   "source": [
    "plt.scatter(x=data[\"stroke\"],y=data[\"age\"])\n",
    "plt.xlabel(\"stroke\")\n",
    "plt.ylabel(\"age\")\n",
    "\n",
    "plt.show()"
   ]
  },
  {
   "cell_type": "markdown",
   "id": "73828980",
   "metadata": {},
   "source": [
    "As we can see, the data is separted. However, what we can deduce from this graph is that the majority of people didn't have a stroke but the majority of those who did were on the range of 40-80 year old people, not taking in consideration some outliners. "
   ]
  },
  {
   "cell_type": "markdown",
   "id": "1e87c0a3",
   "metadata": {},
   "source": [
    "# 5.2-  Scatter plot of the stroke and BMI variable "
   ]
  },
  {
   "cell_type": "code",
   "execution_count": null,
   "id": "659d1935",
   "metadata": {
    "slideshow": {
     "slide_type": "subslide"
    }
   },
   "outputs": [],
   "source": [
    "\n",
    "\n",
    "\n",
    "plt.scatter(x=data[\"stroke\"],y=data[\"bmi\"])\n",
    "plt.xlabel(\"stroke\")\n",
    "plt.ylabel(\"bmi\")\n",
    "\n",
    "plt.show()"
   ]
  },
  {
   "cell_type": "markdown",
   "id": "fe0c3f1f",
   "metadata": {},
   "source": [
    "This graph is not so different from the last one. However, we can get some insights such as the people that got a stroke are between the range from 20 to 60 years old. "
   ]
  },
  {
   "cell_type": "markdown",
   "id": "ca054fd1",
   "metadata": {},
   "source": [
    "\n"
   ]
  },
  {
   "cell_type": "markdown",
   "id": "746a8146",
   "metadata": {},
   "source": [
    "As we can see there are four cluster in this graph and it shows that the probability of a patient to have hypertension is not cnesseary correlated to the fact that the patient had an stroke "
   ]
  },
  {
   "cell_type": "markdown",
   "id": "322300e9",
   "metadata": {},
   "source": [
    "# 10- Final overview showing the correlation between all the variables \n",
    "\n",
    "We decided to use a heat map to describe the correlation between each variable.\n"
   ]
  },
  {
   "cell_type": "code",
   "execution_count": null,
   "id": "a679fbbe",
   "metadata": {
    "scrolled": true
   },
   "outputs": [],
   "source": [
    "plt.figure(figsize=(27,16))\n",
    "sns.heatmap(data.corr(),annot=True)\n"
   ]
  },
  {
   "cell_type": "markdown",
   "id": "004e17a5",
   "metadata": {},
   "source": [
    "# 10.1- Description of the heat map\n",
    "The rightmost line shows a range between 1 and 0, each color represents the value of the correlation between the variables.\n",
    "We use this heatmap to describe the correlation between each variable of the data set "
   ]
  }
 ],
 "metadata": {
  "kernelspec": {
   "display_name": "Python 3 (ipykernel)",
   "language": "python",
   "name": "python3"
  },
  "language_info": {
   "codemirror_mode": {
    "name": "ipython",
    "version": 3
   },
   "file_extension": ".py",
   "mimetype": "text/x-python",
   "name": "python",
   "nbconvert_exporter": "python",
   "pygments_lexer": "ipython3",
   "version": "3.9.13"
  }
 },
 "nbformat": 4,
 "nbformat_minor": 5
}
